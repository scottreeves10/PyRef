{
 "cells": [
  {
   "cell_type": "markdown",
   "metadata": {},
   "source": [
    "READING AND LOADING DATA"
   ]
  },
  {
   "cell_type": "markdown",
   "metadata": {},
   "source": [
    "# CSV Package"
   ]
  },
  {
   "cell_type": "markdown",
   "metadata": {},
   "source": [
    "### With csv module and python standard library"
   ]
  },
  {
   "cell_type": "code",
   "execution_count": 2,
   "metadata": {
    "collapsed": true
   },
   "outputs": [],
   "source": [
    "import csv \n",
    "import numpy\n",
    "\n",
    "file = 'F:/datasets/weather/nws/atlanta_rain_1900_to_2016.csv' \n",
    "with open(file, 'r') as f:\n",
    "    reader = csv.reader(f)\n",
    "    data = list(reader)\n",
    "\n"
   ]
  },
  {
   "cell_type": "markdown",
   "metadata": {},
   "source": [
    "\n",
    "# Pandas\n",
    "\n",
    "**API Reference** - http://pandas.pydata.org/pandas-docs/version/0.18/api.html"
   ]
  },
  {
   "cell_type": "markdown",
   "metadata": {},
   "source": [
    "## Input / Output"
   ]
  },
  {
   "cell_type": "markdown",
   "metadata": {},
   "source": [
    "### Flat File"
   ]
  },
  {
   "cell_type": "markdown",
   "metadata": {},
   "source": [
    "#### pandas.read_csv()\n",
    "http://pandas.pydata.org/pandas-docs/version/0.18/generated/pandas.read_csv.html#pandas.read_csv\n",
    "\n",
    "Many parameters.\n",
    "\n",
    "**sep** : *str, default ‘,’*\n",
    "**delimiter** *str, default None* Alternative argument name for sep.\n",
    ">*.tsv is a tab-delimited file.* Depending on the data, commas and periods might mean something. Use **sep='\\t'** to indicate tab is the delimiter. \n",
    "\n",
    "**header** : *int or list of ints, default ‘infer’*\n",
    ">Row number(s) to use as the column names, and the start of the data. Default behavior is as if set to 0 if no names passed, otherwise None. Explicitly pass header=0 to be able to replace existing names. The header can be a list of integers that specify row locations for a multi-index on the columns e.g. [0,1,3]. Intervening rows that are not specified will be skipped (e.g. 2 in this example is skipped). Note that this parameter ignores commented lines and empty lines if skip_blank_lines=True, so header=0 denotes the first line of data rather than the first line of the file."
   ]
  },
  {
   "cell_type": "markdown",
   "metadata": {},
   "source": [
    "#header is top row, explicit\n",
    "\n",
    ">df = pd.read_csv(file, header=0)\n",
    "\n",
    "#header is top row, default bahavior\n",
    "\n",
    ">df = pd.read_csv(file)\n",
    "\n",
    "#with no header\n",
    "\n",
    ">df = pd.read_csv(Location, header=None)"
   ]
  },
  {
   "cell_type": "code",
   "execution_count": 9,
   "metadata": {
    "collapsed": true
   },
   "outputs": [],
   "source": [
    "import pandas as pd\n",
    "\n",
    "#file = 'F:/datasets/weather/nws/atlanta_rain_1900_to_2016.csv' \n",
    "\n",
    "#escape the whole sting with r\n",
    "file = r'F:\\datasets\\weather\\nws\\atlanta_rain_1900_to_2016.csv' \n",
    "\n",
    "df = pd.read_csv(file) #header is top row, default bahavior"
   ]
  },
  {
   "cell_type": "code",
   "execution_count": null,
   "metadata": {
    "collapsed": true
   },
   "outputs": [],
   "source": [
    "file = 'F:/datasets/gp/'"
   ]
  },
  {
   "cell_type": "markdown",
   "metadata": {},
   "source": [
    "###  Excel\n",
    "read_excel(io[, sheet_name, header, ...])\tRead an Excel table into a pandas DataFrame\n",
    "\n",
    "ExcelFile.parse([sheet_name, header, ...])\tParse specified sheet(s) into a DataFrame"
   ]
  },
  {
   "cell_type": "markdown",
   "metadata": {},
   "source": [
    "#### pandas.read_excel"
   ]
  },
  {
   "cell_type": "code",
   "execution_count": null,
   "metadata": {
    "collapsed": true
   },
   "outputs": [],
   "source": []
  }
 ],
 "metadata": {
  "kernelspec": {
   "display_name": "Python 3",
   "language": "python",
   "name": "python3"
  },
  "language_info": {
   "codemirror_mode": {
    "name": "ipython",
    "version": 3
   },
   "file_extension": ".py",
   "mimetype": "text/x-python",
   "name": "python",
   "nbconvert_exporter": "python",
   "pygments_lexer": "ipython3",
   "version": "3.6.1"
  }
 },
 "nbformat": 4,
 "nbformat_minor": 2
}
